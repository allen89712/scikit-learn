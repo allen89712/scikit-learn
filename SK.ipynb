{
 "cells": [
  {
   "cell_type": "code",
   "execution_count": 26,
   "metadata": {},
   "outputs": [],
   "source": [
    "import numpy as np\n",
    "import pandas as pd\n",
    "from sklearn.neural_network import MLPClassifier\n",
    "from sklearn.preprocessing import LabelEncoder\n",
    "from sklearn.metrics import accuracy_score,make_scorer,f1_score,precision_recall_fscore_support,confusion_matrix\n",
    "from sklearn.model_selection import train_test_split"
   ]
  },
  {
   "cell_type": "code",
   "execution_count": 44,
   "metadata": {},
   "outputs": [
    {
     "name": "stdout",
     "output_type": "stream",
     "text": [
      "Accuracy: 0.975\n"
     ]
    }
   ],
   "source": [
    "#Loading Data\n",
    "data = pd.read_csv(\"banana_quality.csv\")\n",
    "\n",
    "#Preprocessing\n",
    "#Define Features and Labels\n",
    "X = data.drop(columns=['Quality'])\n",
    "y = data['Quality']\n",
    "\n",
    "#Convert Target Variable to Integer Labels\n",
    "label_encoder = LabelEncoder()\n",
    "y = label_encoder.fit_transform(y)\n",
    "\n",
    "#Splitting Data into Training and Testing Sets (75% training, 25% testing)\n",
    "X_train, X_test, y_train, y_test = train_test_split(X, y, test_size=0.25, random_state=50)\n",
    "\n",
    "#Creating and Training MLPClassifier Model\n",
    "model = MLPClassifier(hidden_layer_sizes=(100,), max_iter=1000,learning_rate='constant', learning_rate_init=0.1)\n",
    "model.fit(X_train, y_train)\n",
    "\n",
    "#Evaluate Model\n",
    "y_pred = model.predict(X_test)\n",
    "accuracy = accuracy_score(y_test, y_pred)\n",
    "\n",
    "#Accuracy\n",
    "print(\"Accuracy:\", np.mean(accuracy))"
   ]
  },
  {
   "cell_type": "code",
   "execution_count": 39,
   "metadata": {},
   "outputs": [],
   "source": [
    "#Loading Data\n",
    "data = pd.read_csv(\"banana_quality.csv\")\n",
    "\n",
    "#Preprocessing\n",
    "#Define Features and Labels\n",
    "X = data.drop(columns=['Quality'])\n",
    "y = data['Quality']\n",
    "\n",
    "#Convert Target Variable to Integer Labels\n",
    "label_encoder = LabelEncoder()\n",
    "y = label_encoder.fit_transform(y)\n",
    "\n",
    "#Splitting Data into Training and Testing Sets (75% training, 25% testing)\n",
    "X_train, X_test, y_train, y_test = train_test_split(X, y, test_size=0.25, random_state=50)\n",
    "y_train = y_train.reshape(-1, 1)\n",
    "y_test = y_test.reshape(-1, 1)\n",
    "x_array = np.concatenate((X_train, y_train), axis=1)\n",
    "y_array = np.concatenate((X_test, y_test), axis=1)\n",
    "\n",
    "x_df = pd.DataFrame(x_array, columns=data.columns)\n",
    "y_df = pd.DataFrame(y_array, columns=data.columns)\n",
    "\n",
    "x_df.to_csv('x_set.csv', index=False)\n",
    "y_df.to_csv('y_set.csv', index=False)"
   ]
  },
  {
   "cell_type": "code",
   "execution_count": 41,
   "metadata": {},
   "outputs": [
    {
     "name": "stdout",
     "output_type": "stream",
     "text": [
      "<class 'pandas.core.frame.DataFrame'>\n",
      "RangeIndex: 2000 entries, 0 to 1999\n",
      "Data columns (total 8 columns):\n",
      " #   Column       Non-Null Count  Dtype  \n",
      "---  ------       --------------  -----  \n",
      " 0   Size         2000 non-null   float64\n",
      " 1   Weight       2000 non-null   float64\n",
      " 2   Sweetness    2000 non-null   float64\n",
      " 3   Softness     2000 non-null   float64\n",
      " 4   HarvestTime  2000 non-null   float64\n",
      " 5   Ripeness     2000 non-null   float64\n",
      " 6   Acidity      2000 non-null   float64\n",
      " 7   Quality      2000 non-null   float64\n",
      "dtypes: float64(8)\n",
      "memory usage: 125.1 KB\n"
     ]
    }
   ],
   "source": [
    "y_df.info()"
   ]
  },
  {
   "cell_type": "code",
   "execution_count": 5,
   "metadata": {},
   "outputs": [
    {
     "name": "stdout",
     "output_type": "stream",
     "text": [
      "[1 1 1 ... 0 0 0]\n"
     ]
    }
   ],
   "source": [
    "type(y)\n",
    "print(y)"
   ]
  },
  {
   "cell_type": "code",
   "execution_count": 46,
   "metadata": {},
   "outputs": [
    {
     "name": "stdout",
     "output_type": "stream",
     "text": [
      "0.975\n",
      "(0.9749715995455928, 0.9751179382119808, 0.9749969746339308, None)\n",
      "(0.975, 0.975, 0.975, None)\n",
      "(0.9750994015904255, 0.975, 0.9750019252329533, None)\n"
     ]
    },
    {
     "data": {
      "text/plain": [
       "array([[986,  32],\n",
       "       [ 18, 964]], dtype=int64)"
      ]
     },
     "execution_count": 46,
     "metadata": {},
     "output_type": "execute_result"
    }
   ],
   "source": [
    "print(accuracy_score(y_test, y_pred))\n",
    "print(precision_recall_fscore_support(y_test, y_pred , average='macro'))\n",
    "print(precision_recall_fscore_support(y_test, y_pred , average='micro'))\n",
    "print(precision_recall_fscore_support(y_test, y_pred , average='weighted'))\n",
    "confusion_matrix(y_test, y_pred)"
   ]
  }
 ],
 "metadata": {
  "kernelspec": {
   "display_name": "tf",
   "language": "python",
   "name": "python3"
  },
  "language_info": {
   "codemirror_mode": {
    "name": "ipython",
    "version": 3
   },
   "file_extension": ".py",
   "mimetype": "text/x-python",
   "name": "python",
   "nbconvert_exporter": "python",
   "pygments_lexer": "ipython3",
   "version": "3.8.18"
  }
 },
 "nbformat": 4,
 "nbformat_minor": 2
}
